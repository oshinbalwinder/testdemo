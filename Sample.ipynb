{
    "cells": [
        {
            "cell_type": "markdown",
            "metadata": {},
            "source": "Description"
        },
        {
            "cell_type": "code",
            "execution_count": 2,
            "metadata": {},
            "outputs": [
                {
                    "data": {
                        "text/html": "<div>\n<style scoped>\n    .dataframe tbody tr th:only-of-type {\n        vertical-align: middle;\n    }\n\n    .dataframe tbody tr th {\n        vertical-align: top;\n    }\n\n    .dataframe thead th {\n        text-align: right;\n    }\n</style>\n<table border=\"1\" class=\"dataframe\">\n  <thead>\n    <tr style=\"text-align: right;\">\n      <th></th>\n      <th>month_number</th>\n      <th>facecream</th>\n      <th>facewash</th>\n      <th>toothpaste</th>\n      <th>bathingsoap</th>\n      <th>shampoo</th>\n      <th>moisturizer</th>\n      <th>total_units</th>\n      <th>total_profit</th>\n    </tr>\n  </thead>\n  <tbody>\n    <tr>\n      <th>0</th>\n      <td>1</td>\n      <td>2500</td>\n      <td>1500</td>\n      <td>5200</td>\n      <td>9200</td>\n      <td>1200</td>\n      <td>1500</td>\n      <td>21100</td>\n      <td>211000</td>\n    </tr>\n    <tr>\n      <th>1</th>\n      <td>2</td>\n      <td>2630</td>\n      <td>1200</td>\n      <td>5100</td>\n      <td>6100</td>\n      <td>2100</td>\n      <td>1200</td>\n      <td>18330</td>\n      <td>183300</td>\n    </tr>\n    <tr>\n      <th>2</th>\n      <td>3</td>\n      <td>2140</td>\n      <td>1340</td>\n      <td>4550</td>\n      <td>9550</td>\n      <td>3550</td>\n      <td>1340</td>\n      <td>22470</td>\n      <td>224700</td>\n    </tr>\n    <tr>\n      <th>3</th>\n      <td>4</td>\n      <td>3400</td>\n      <td>1130</td>\n      <td>5870</td>\n      <td>8870</td>\n      <td>1870</td>\n      <td>1130</td>\n      <td>22270</td>\n      <td>222700</td>\n    </tr>\n    <tr>\n      <th>4</th>\n      <td>5</td>\n      <td>3600</td>\n      <td>1740</td>\n      <td>4560</td>\n      <td>7760</td>\n      <td>1560</td>\n      <td>1740</td>\n      <td>20960</td>\n      <td>209600</td>\n    </tr>\n  </tbody>\n</table>\n</div>",
                        "text/plain": "   month_number  facecream  facewash  toothpaste  bathingsoap  shampoo  \\\n0             1       2500      1500        5200         9200     1200   \n1             2       2630      1200        5100         6100     2100   \n2             3       2140      1340        4550         9550     3550   \n3             4       3400      1130        5870         8870     1870   \n4             5       3600      1740        4560         7760     1560   \n\n   moisturizer  total_units  total_profit  \n0         1500        21100        211000  \n1         1200        18330        183300  \n2         1340        22470        224700  \n3         1130        22270        222700  \n4         1740        20960        209600  "
                    },
                    "execution_count": 2,
                    "metadata": {},
                    "output_type": "execute_result"
                }
            ],
            "source": "# The code was removed by Watson Studio for sharing."
        },
        {
            "cell_type": "code",
            "execution_count": null,
            "metadata": {},
            "outputs": [],
            "source": ""
        },
        {
            "cell_type": "code",
            "execution_count": null,
            "metadata": {},
            "outputs": [],
            "source": ""
        }
    ],
    "metadata": {
        "kernelspec": {
            "display_name": "Python 3.7",
            "language": "python",
            "name": "python3"
        },
        "language_info": {
            "codemirror_mode": {
                "name": "ipython",
                "version": 3
            },
            "file_extension": ".py",
            "mimetype": "text/x-python",
            "name": "python",
            "nbconvert_exporter": "python",
            "pygments_lexer": "ipython3",
            "version": "3.7.10"
        }
    },
    "nbformat": 4,
    "nbformat_minor": 1
}